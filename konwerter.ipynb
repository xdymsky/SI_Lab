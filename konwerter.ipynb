{
 "cells": [
  {
   "cell_type": "code",
   "execution_count": 1,
   "metadata": {},
   "outputs": [],
   "source": [
    "import pandas as pd"
   ]
  },
  {
   "cell_type": "code",
   "execution_count": 2,
   "metadata": {},
   "outputs": [],
   "source": [
    "import requests\n"
   ]
  },
  {
   "cell_type": "code",
   "execution_count": 3,
   "metadata": {},
   "outputs": [],
   "source": [
    "#wczytywanie walut\n",
    "currencyOne = 'USD'\n",
    "currencyTwo = 'EUR'\n",
    "date_from = '2018-01-01'\n",
    "date_to = '2018-01-30'\n"
   ]
  },
  {
   "cell_type": "code",
   "execution_count": 4,
   "metadata": {},
   "outputs": [],
   "source": [
    "#waluta z pliku *.json\n",
    "def fetch_currency(currency,beg,end):\n",
    "    url = 'http://api.nbp.pl/api/exchangerates/rates/A/' + currency + \"/\" + date_from + \"/\" + date_to + \"/\"\n",
    "    currency_req = requests.get(url)\n",
    "    currency_data = currency_req.json()\n",
    "    return currency_data['rates']"
   ]
  },
  {
   "cell_type": "code",
   "execution_count": 6,
   "metadata": {},
   "outputs": [],
   "source": [
    "#funkcja wczytująca walutę\n",
    "rateOne = fetch_currency(currencyOne,date_from,date_to)\n",
    "rateTwo = fetch_currency(currencyTwo,date_from,date_to)"
   ]
  },
  {
   "cell_type": "code",
   "execution_count": 9,
   "metadata": {},
   "outputs": [],
   "source": [
    "usd_rates_january = pd.DataFrame.from_dict(rateOne).head(10)\n",
    "usd_rates_january.head()\n",
    "\n",
    "# Tworzenie obiektów DataFrame ze słowników i ograniczenie danych do pierwszych 10 wpisów.\n",
    "\n",
    "rate_dataframeOne = pd.DataFrame.from_dict(rateOne).head(10)\n",
    "rate_dataframeTwo = pd.DataFrame.from_dict(rateTwo).head(10)"
   ]
  },
  {
   "cell_type": "code",
   "execution_count": 10,
   "metadata": {},
   "outputs": [],
   "source": [
    "jpy_rates_january = pd.DataFrame.from_dict(rateTwo).head(10)\n",
    "jpy_rates_january.head()\n",
    "\n",
    "plot_dataOne = usd_rates_january.set_index(['effectiveDate'])['mid']\n",
    "plot_dataTwo = jpy_rates_january.set_index(['effectiveDate'])['mid']"
   ]
  },
  {
   "cell_type": "code",
   "execution_count": 11,
   "metadata": {},
   "outputs": [],
   "source": [
    "#indeksy ustawione na datę.\n",
    "plot_dataOne = rate_dataframeOne.set_index(['effectiveDate'])['mid']\n",
    "plot_dataTwo = rate_dataframeTwo.set_index(['effectiveDate'])['mid']"
   ]
  },
  {
   "cell_type": "code",
   "execution_count": 13,
   "metadata": {},
   "outputs": [
    {
     "ename": "NameError",
     "evalue": "name 'corrcoef' is not defined",
     "output_type": "error",
     "traceback": [
      "\u001b[1;31m---------------------------------------------------------------------------\u001b[0m",
      "\u001b[1;31mNameError\u001b[0m                                 Traceback (most recent call last)",
      "\u001b[1;32m<ipython-input-13-1c14fe4cc663>\u001b[0m in \u001b[0;36m<module>\u001b[1;34m\u001b[0m\n\u001b[0;32m      1\u001b[0m \u001b[1;31m#funkcja licząca korelację dwóch kursów\u001b[0m\u001b[1;33m\u001b[0m\u001b[1;33m\u001b[0m\u001b[1;33m\u001b[0m\u001b[0m\n\u001b[1;32m----> 2\u001b[1;33m \u001b[0mcorrelation\u001b[0m \u001b[1;33m=\u001b[0m \u001b[0mcorrcoef\u001b[0m \u001b[1;33m(\u001b[0m\u001b[0mplot_dataOne\u001b[0m\u001b[1;33m,\u001b[0m \u001b[0mplot_dataTwo\u001b[0m\u001b[1;33m)\u001b[0m\u001b[1;33m[\u001b[0m\u001b[1;36m0\u001b[0m\u001b[1;33m]\u001b[0m\u001b[1;33m[\u001b[0m\u001b[1;36m1\u001b[0m\u001b[1;33m]\u001b[0m\u001b[1;33m\u001b[0m\u001b[1;33m\u001b[0m\u001b[0m\n\u001b[0m",
      "\u001b[1;31mNameError\u001b[0m: name 'corrcoef' is not defined"
     ]
    }
   ],
   "source": [
    "#funkcja licząca korelację dwóch kursów\n",
    "correlation = np.corrcoef (plot_dataOne, plot_dataTwo)[0][1]"
   ]
  },
  {
   "cell_type": "code",
   "execution_count": 17,
   "metadata": {},
   "outputs": [
    {
     "ename": "NameError",
     "evalue": "name 'plt' is not defined",
     "output_type": "error",
     "traceback": [
      "\u001b[1;31m---------------------------------------------------------------------------\u001b[0m",
      "\u001b[1;31mNameError\u001b[0m                                 Traceback (most recent call last)",
      "\u001b[1;32m<ipython-input-17-c1d4c9b576d1>\u001b[0m in \u001b[0;36m<module>\u001b[1;34m\u001b[0m\n\u001b[0;32m      1\u001b[0m \u001b[1;31m#rysowanie wykresu pokazującego korelację oraz wartość względem PLN\u001b[0m\u001b[1;33m\u001b[0m\u001b[1;33m\u001b[0m\u001b[1;33m\u001b[0m\u001b[0m\n\u001b[1;32m----> 2\u001b[1;33m \u001b[0mplt\u001b[0m\u001b[1;33m.\u001b[0m\u001b[0mplot\u001b[0m\u001b[1;33m(\u001b[0m\u001b[0mplot_dataOne\u001b[0m\u001b[1;33m,\u001b[0m \u001b[1;34m'g--'\u001b[0m\u001b[1;33m,\u001b[0m \u001b[0mplot_dataTwo\u001b[0m\u001b[1;33m,\u001b[0m\u001b[1;34m'b--'\u001b[0m\u001b[1;33m)\u001b[0m\u001b[1;33m\u001b[0m\u001b[1;33m\u001b[0m\u001b[0m\n\u001b[0m\u001b[0;32m      3\u001b[0m \u001b[0mplt\u001b[0m\u001b[1;33m.\u001b[0m\u001b[0mylim\u001b[0m\u001b[1;33m(\u001b[0m\u001b[0mymin\u001b[0m\u001b[1;33m=\u001b[0m\u001b[1;36m0\u001b[0m\u001b[1;33m)\u001b[0m\u001b[1;33m\u001b[0m\u001b[1;33m\u001b[0m\u001b[0m\n\u001b[0;32m      4\u001b[0m \u001b[0mplt\u001b[0m\u001b[1;33m.\u001b[0m\u001b[0mtitle\u001b[0m\u001b[1;33m(\u001b[0m\u001b[1;34m'Korelacja {} do {} = {}'\u001b[0m\u001b[1;33m.\u001b[0m\u001b[0mformat\u001b[0m\u001b[1;33m(\u001b[0m\u001b[0mcurrencyOne\u001b[0m\u001b[1;33m,\u001b[0m \u001b[0mcurrencyTwo\u001b[0m\u001b[1;33m,\u001b[0m \u001b[0mcorrelation\u001b[0m\u001b[1;33m)\u001b[0m\u001b[1;33m)\u001b[0m\u001b[1;33m\u001b[0m\u001b[1;33m\u001b[0m\u001b[0m\n",
      "\u001b[1;31mNameError\u001b[0m: name 'plt' is not defined"
     ]
    }
   ],
   "source": [
    "#rysowanie wykresu pokazującego korelację oraz wartość względem PLN\n",
    "plt.plot(plot_dataOne, 'g--', plot_dataTwo,'b--')\n",
    "plt.ylim(ymin=0)\n",
    "plt.title('Korelacja {} do {} = {}'.format(currencyOne, currencyTwo, correlation))"
   ]
  },
  {
   "cell_type": "code",
   "execution_count": null,
   "metadata": {},
   "outputs": [],
   "source": []
  },
  {
   "cell_type": "code",
   "execution_count": null,
   "metadata": {},
   "outputs": [],
   "source": []
  }
 ],
 "metadata": {
  "kernelspec": {
   "display_name": "Python 3",
   "language": "python",
   "name": "python3"
  },
  "language_info": {
   "codemirror_mode": {
    "name": "ipython",
    "version": 3
   },
   "file_extension": ".py",
   "mimetype": "text/x-python",
   "name": "python",
   "nbconvert_exporter": "python",
   "pygments_lexer": "ipython3",
   "version": "3.7.3"
  }
 },
 "nbformat": 4,
 "nbformat_minor": 2
}
