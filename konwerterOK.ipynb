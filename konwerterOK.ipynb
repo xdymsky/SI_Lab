{
 "cells": [
  {
   "cell_type": "code",
   "execution_count": 1,
   "metadata": {},
   "outputs": [],
   "source": [
    "import pandas as pd"
   ]
  },
  {
   "cell_type": "code",
   "execution_count": 2,
   "metadata": {},
   "outputs": [],
   "source": [
    "import requests\n"
   ]
  },
  {
   "cell_type": "code",
   "execution_count": 3,
   "metadata": {},
   "outputs": [],
   "source": [
    "#wczytywanie walut\n",
    "currencyOne = 'USD'\n",
    "currencyTwo = 'EUR'\n",
    "date_from = '2018-01-01'\n",
    "date_to = '2018-01-30'\n"
   ]
  },
  {
   "cell_type": "code",
   "execution_count": 4,
   "metadata": {},
   "outputs": [],
   "source": [
    "#waluta z pliku *.json\n",
    "def fetch_currency(currency,beg,end):\n",
    "    url = 'http://api.nbp.pl/api/exchangerates/rates/A/' + currency + \"/\" + date_from + \"/\" + date_to + \"/\"\n",
    "    currency_req = requests.get(url)\n",
    "    currency_data = currency_req.json()\n",
    "    return currency_data['rates']"
   ]
  },
  {
   "cell_type": "code",
   "execution_count": 6,
   "metadata": {},
   "outputs": [],
   "source": [
    "#funkcja wczytująca walutę\n",
    "rateOne = fetch_currency(currencyOne,date_from,date_to)\n",
    "rateTwo = fetch_currency(currencyTwo,date_from,date_to)"
   ]
  },
  {
   "cell_type": "code",
   "execution_count": 9,
   "metadata": {},
   "outputs": [],
   "source": [
    "usd_rates_january = pd.DataFrame.from_dict(rateOne).head(10)\n",
    "usd_rates_january.head()\n",
    "\n",
    "# Tworzenie obiektów DataFrame ze słowników i ograniczenie danych do pierwszych 10 wpisów.\n",
    "\n",
    "rate_dataframeOne = pd.DataFrame.from_dict(rateOne).head(10)\n",
    "rate_dataframeTwo = pd.DataFrame.from_dict(rateTwo).head(10)"
   ]
  },
  {
   "cell_type": "code",
   "execution_count": 10,
   "metadata": {},
   "outputs": [],
   "source": [
    "jpy_rates_january = pd.DataFrame.from_dict(rateTwo).head(10)\n",
    "jpy_rates_january.head()\n",
    "\n",
    "plot_dataOne = usd_rates_january.set_index(['effectiveDate'])['mid']\n",
    "plot_dataTwo = jpy_rates_january.set_index(['effectiveDate'])['mid']"
   ]
  },
  {
   "cell_type": "code",
   "execution_count": null,
   "metadata": {},
   "outputs": [],
   "source": [
    "#indeksy ustawione na datę.\n",
    "plot_dataOne = rate_dataframeOne.set_index(['effectiveDate'])['mid']\n",
    "plot_dataTwo = rate_dataframeTwo.set_index(['effectiveDate'])['mid']"
   ]
  },
  {
   "cell_type": "code",
   "execution_count": null,
   "metadata": {},
   "outputs": [],
   "source": [
    "#funkcja licząca korelację dwóch kursów\n",
    "correlation = corrcoef (plot_dataOne, plot_dataTwo)[0][1]"
   ]
  },
  {
   "cell_type": "code",
   "execution_count": null,
   "metadata": {},
   "outputs": [],
   "source": [
    "import matplotlib.pyplot as plt\n",
    "\n",
    "#rysowanie wykresu pokazującego korelację oraz wartość względem PLN\n",
    "plt.plot(plot_dataOne, 'g--', plot_dataTwo,'b--')\n",
    "plt.ylim(ymin=0)\n",
    "plt.title('Korelacja {} do {} = {}'.format(currencyOne, currencyTwo, correlation))"
   ]
  },
  {
   "cell_type": "code",
   "execution_count": null,
   "metadata": {},
   "outputs": [],
   "source": []
  },
  {
   "cell_type": "code",
   "execution_count": null,
   "metadata": {},
   "outputs": [],
   "source": []
  }
 ],
 "metadata": {
  "kernelspec": {
   "display_name": "Python 3",
   "language": "python",
   "name": "python3"
  },
  "language_info": {
   "codemirror_mode": {
    "name": "ipython",
    "version": 3
   },
   "file_extension": ".py",
   "mimetype": "text/x-python",
   "name": "python",
   "nbconvert_exporter": "python",
   "pygments_lexer": "ipython3",
   "version": "3.7.3"
  }
 },
 "nbformat": 4,
 "nbformat_minor": 2
}
